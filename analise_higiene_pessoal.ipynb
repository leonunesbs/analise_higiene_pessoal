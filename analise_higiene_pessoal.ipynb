{
  "nbformat": 4,
  "nbformat_minor": 0,
  "metadata": {
    "colab": {
      "name": "analise_higiene_pessoal.ipynb",
      "provenance": [],
      "collapsed_sections": [
        "HkTZyK683HIr",
        "trEDWAPS3kEs",
        "1m5UdSCe4Gqe",
        "-jQOEr9hFQn6",
        "ocU4D2FnGb6J",
        "mUuEvUViODOv",
        "64xW1nqcgE_Z",
        "QH89-djJOH_T",
        "elsTdsBqp04A",
        "3C11KyDElXD6",
        "uVTG6k46qkkZ"
      ],
      "mount_file_id": "1TL7PTTk1foA_MZ1KIk8ku01gFPhw7N_P",
      "authorship_tag": "ABX9TyPt+E/QlFW8YzcGb8uoON+e",
      "include_colab_link": true
    },
    "kernelspec": {
      "name": "python3",
      "display_name": "Python 3"
    },
    "language_info": {
      "name": "python"
    }
  },
  "cells": [
    {
      "cell_type": "markdown",
      "metadata": {
        "id": "view-in-github",
        "colab_type": "text"
      },
      "source": [
        "<a href=\"https://colab.research.google.com/github/leonunesbs/analise_higiene_pessoal/blob/main/analise_higiene_pessoal.ipynb\" target=\"_parent\"><img src=\"https://colab.research.google.com/assets/colab-badge.svg\" alt=\"Open In Colab\"/></a>"
      ]
    },
    {
      "cell_type": "markdown",
      "metadata": {
        "id": "OjS79JEfzDD5"
      },
      "source": [
        "# DataAnalysis Higiêne Pessoal Essencial\n",
        "## Abaixo será realizada a análise de dados, coletados por Google Forms, guidada por questionamentos pré-definidos abaixo.\n",
        "\n",
        "---\n",
        "\n",
        "1. Quais e quantos produtos as mulheres mais consomem em cada faixa de renda?\n",
        "\n",
        "2. Quais e quantos produtos os homens mais consomem em cada faixa de renda?\n",
        "\n",
        "3. Qual a média de idade do estudo\n",
        "\n",
        "4. Quais produtos as mulheres mais consomem de forma geral?\n",
        "\n",
        "5. Quais produtos os homens mais consomem de forma geral?\n",
        "\n",
        "---\n",
        "\n",
        "\n",
        "Desenvolvido por Leonardo Nunes\n",
        "* https://leonunesbs.vercel.app\n",
        "* https://instagram.com/leonunesbs\n",
        "\n",
        "\n",
        "\n"
      ]
    },
    {
      "cell_type": "markdown",
      "metadata": {
        "id": "HkTZyK683HIr"
      },
      "source": [
        "## Preparação"
      ]
    },
    {
      "cell_type": "markdown",
      "metadata": {
        "id": "trEDWAPS3kEs"
      },
      "source": [
        "### Importação das bibliotecas necessárias"
      ]
    },
    {
      "cell_type": "code",
      "metadata": {
        "id": "3fL6_wEx3XO5"
      },
      "source": [
        "from collections import Counter, OrderedDict\n",
        "import pandas as pd\n",
        "import numpy as np"
      ],
      "execution_count": null,
      "outputs": []
    },
    {
      "cell_type": "markdown",
      "metadata": {
        "id": "1m5UdSCe4Gqe"
      },
      "source": [
        "### Carregando os dados"
      ]
    },
    {
      "cell_type": "code",
      "metadata": {
        "id": "3mgeOYT73YKi",
        "colab": {
          "base_uri": "https://localhost:8080/",
          "height": 476
        },
        "outputId": "92e21eb0-9be6-4c40-bbe9-4977764ac20f"
      },
      "source": [
        "# Carrega os dados do arquivo .csv\n",
        "df = pd.read_csv('https://drive.google.com/file/d/1-M1fXxdlS8x9IAiWHMLqcC1dAPXqrZvC/view?usp=sharing')\n"
      ],
      "execution_count": null,
      "outputs": [
        {
          "output_type": "error",
          "ename": "ParserError",
          "evalue": "ignored",
          "traceback": [
            "\u001b[0;31m---------------------------------------------------------------------------\u001b[0m",
            "\u001b[0;31mParserError\u001b[0m                               Traceback (most recent call last)",
            "\u001b[0;32m<ipython-input-4-eb55d06b651c>\u001b[0m in \u001b[0;36m<module>\u001b[0;34m()\u001b[0m\n\u001b[1;32m      1\u001b[0m \u001b[0;31m# Carrega os dados do arquivo .csv\u001b[0m\u001b[0;34m\u001b[0m\u001b[0;34m\u001b[0m\u001b[0;34m\u001b[0m\u001b[0m\n\u001b[0;32m----> 2\u001b[0;31m \u001b[0mdf\u001b[0m \u001b[0;34m=\u001b[0m \u001b[0mpd\u001b[0m\u001b[0;34m.\u001b[0m\u001b[0mread_csv\u001b[0m\u001b[0;34m(\u001b[0m\u001b[0;34m'https://drive.google.com/file/d/1-M1fXxdlS8x9IAiWHMLqcC1dAPXqrZvC/view?usp=sharing'\u001b[0m\u001b[0;34m)\u001b[0m\u001b[0;34m\u001b[0m\u001b[0;34m\u001b[0m\u001b[0m\n\u001b[0m",
            "\u001b[0;32m/usr/local/lib/python3.7/dist-packages/pandas/io/parsers.py\u001b[0m in \u001b[0;36mread_csv\u001b[0;34m(filepath_or_buffer, sep, delimiter, header, names, index_col, usecols, squeeze, prefix, mangle_dupe_cols, dtype, engine, converters, true_values, false_values, skipinitialspace, skiprows, skipfooter, nrows, na_values, keep_default_na, na_filter, verbose, skip_blank_lines, parse_dates, infer_datetime_format, keep_date_col, date_parser, dayfirst, cache_dates, iterator, chunksize, compression, thousands, decimal, lineterminator, quotechar, quoting, doublequote, escapechar, comment, encoding, dialect, error_bad_lines, warn_bad_lines, delim_whitespace, low_memory, memory_map, float_precision)\u001b[0m\n\u001b[1;32m    686\u001b[0m     )\n\u001b[1;32m    687\u001b[0m \u001b[0;34m\u001b[0m\u001b[0m\n\u001b[0;32m--> 688\u001b[0;31m     \u001b[0;32mreturn\u001b[0m \u001b[0m_read\u001b[0m\u001b[0;34m(\u001b[0m\u001b[0mfilepath_or_buffer\u001b[0m\u001b[0;34m,\u001b[0m \u001b[0mkwds\u001b[0m\u001b[0;34m)\u001b[0m\u001b[0;34m\u001b[0m\u001b[0;34m\u001b[0m\u001b[0m\n\u001b[0m\u001b[1;32m    689\u001b[0m \u001b[0;34m\u001b[0m\u001b[0m\n\u001b[1;32m    690\u001b[0m \u001b[0;34m\u001b[0m\u001b[0m\n",
            "\u001b[0;32m/usr/local/lib/python3.7/dist-packages/pandas/io/parsers.py\u001b[0m in \u001b[0;36m_read\u001b[0;34m(filepath_or_buffer, kwds)\u001b[0m\n\u001b[1;32m    458\u001b[0m \u001b[0;34m\u001b[0m\u001b[0m\n\u001b[1;32m    459\u001b[0m     \u001b[0;32mtry\u001b[0m\u001b[0;34m:\u001b[0m\u001b[0;34m\u001b[0m\u001b[0;34m\u001b[0m\u001b[0m\n\u001b[0;32m--> 460\u001b[0;31m         \u001b[0mdata\u001b[0m \u001b[0;34m=\u001b[0m \u001b[0mparser\u001b[0m\u001b[0;34m.\u001b[0m\u001b[0mread\u001b[0m\u001b[0;34m(\u001b[0m\u001b[0mnrows\u001b[0m\u001b[0;34m)\u001b[0m\u001b[0;34m\u001b[0m\u001b[0;34m\u001b[0m\u001b[0m\n\u001b[0m\u001b[1;32m    461\u001b[0m     \u001b[0;32mfinally\u001b[0m\u001b[0;34m:\u001b[0m\u001b[0;34m\u001b[0m\u001b[0;34m\u001b[0m\u001b[0m\n\u001b[1;32m    462\u001b[0m         \u001b[0mparser\u001b[0m\u001b[0;34m.\u001b[0m\u001b[0mclose\u001b[0m\u001b[0;34m(\u001b[0m\u001b[0;34m)\u001b[0m\u001b[0;34m\u001b[0m\u001b[0;34m\u001b[0m\u001b[0m\n",
            "\u001b[0;32m/usr/local/lib/python3.7/dist-packages/pandas/io/parsers.py\u001b[0m in \u001b[0;36mread\u001b[0;34m(self, nrows)\u001b[0m\n\u001b[1;32m   1196\u001b[0m     \u001b[0;32mdef\u001b[0m \u001b[0mread\u001b[0m\u001b[0;34m(\u001b[0m\u001b[0mself\u001b[0m\u001b[0;34m,\u001b[0m \u001b[0mnrows\u001b[0m\u001b[0;34m=\u001b[0m\u001b[0;32mNone\u001b[0m\u001b[0;34m)\u001b[0m\u001b[0;34m:\u001b[0m\u001b[0;34m\u001b[0m\u001b[0;34m\u001b[0m\u001b[0m\n\u001b[1;32m   1197\u001b[0m         \u001b[0mnrows\u001b[0m \u001b[0;34m=\u001b[0m \u001b[0m_validate_integer\u001b[0m\u001b[0;34m(\u001b[0m\u001b[0;34m\"nrows\"\u001b[0m\u001b[0;34m,\u001b[0m \u001b[0mnrows\u001b[0m\u001b[0;34m)\u001b[0m\u001b[0;34m\u001b[0m\u001b[0;34m\u001b[0m\u001b[0m\n\u001b[0;32m-> 1198\u001b[0;31m         \u001b[0mret\u001b[0m \u001b[0;34m=\u001b[0m \u001b[0mself\u001b[0m\u001b[0;34m.\u001b[0m\u001b[0m_engine\u001b[0m\u001b[0;34m.\u001b[0m\u001b[0mread\u001b[0m\u001b[0;34m(\u001b[0m\u001b[0mnrows\u001b[0m\u001b[0;34m)\u001b[0m\u001b[0;34m\u001b[0m\u001b[0;34m\u001b[0m\u001b[0m\n\u001b[0m\u001b[1;32m   1199\u001b[0m \u001b[0;34m\u001b[0m\u001b[0m\n\u001b[1;32m   1200\u001b[0m         \u001b[0;31m# May alter columns / col_dict\u001b[0m\u001b[0;34m\u001b[0m\u001b[0;34m\u001b[0m\u001b[0;34m\u001b[0m\u001b[0m\n",
            "\u001b[0;32m/usr/local/lib/python3.7/dist-packages/pandas/io/parsers.py\u001b[0m in \u001b[0;36mread\u001b[0;34m(self, nrows)\u001b[0m\n\u001b[1;32m   2155\u001b[0m     \u001b[0;32mdef\u001b[0m \u001b[0mread\u001b[0m\u001b[0;34m(\u001b[0m\u001b[0mself\u001b[0m\u001b[0;34m,\u001b[0m \u001b[0mnrows\u001b[0m\u001b[0;34m=\u001b[0m\u001b[0;32mNone\u001b[0m\u001b[0;34m)\u001b[0m\u001b[0;34m:\u001b[0m\u001b[0;34m\u001b[0m\u001b[0;34m\u001b[0m\u001b[0m\n\u001b[1;32m   2156\u001b[0m         \u001b[0;32mtry\u001b[0m\u001b[0;34m:\u001b[0m\u001b[0;34m\u001b[0m\u001b[0;34m\u001b[0m\u001b[0m\n\u001b[0;32m-> 2157\u001b[0;31m             \u001b[0mdata\u001b[0m \u001b[0;34m=\u001b[0m \u001b[0mself\u001b[0m\u001b[0;34m.\u001b[0m\u001b[0m_reader\u001b[0m\u001b[0;34m.\u001b[0m\u001b[0mread\u001b[0m\u001b[0;34m(\u001b[0m\u001b[0mnrows\u001b[0m\u001b[0;34m)\u001b[0m\u001b[0;34m\u001b[0m\u001b[0;34m\u001b[0m\u001b[0m\n\u001b[0m\u001b[1;32m   2158\u001b[0m         \u001b[0;32mexcept\u001b[0m \u001b[0mStopIteration\u001b[0m\u001b[0;34m:\u001b[0m\u001b[0;34m\u001b[0m\u001b[0;34m\u001b[0m\u001b[0m\n\u001b[1;32m   2159\u001b[0m             \u001b[0;32mif\u001b[0m \u001b[0mself\u001b[0m\u001b[0;34m.\u001b[0m\u001b[0m_first_chunk\u001b[0m\u001b[0;34m:\u001b[0m\u001b[0;34m\u001b[0m\u001b[0;34m\u001b[0m\u001b[0m\n",
            "\u001b[0;32mpandas/_libs/parsers.pyx\u001b[0m in \u001b[0;36mpandas._libs.parsers.TextReader.read\u001b[0;34m()\u001b[0m\n",
            "\u001b[0;32mpandas/_libs/parsers.pyx\u001b[0m in \u001b[0;36mpandas._libs.parsers.TextReader._read_low_memory\u001b[0;34m()\u001b[0m\n",
            "\u001b[0;32mpandas/_libs/parsers.pyx\u001b[0m in \u001b[0;36mpandas._libs.parsers.TextReader._read_rows\u001b[0;34m()\u001b[0m\n",
            "\u001b[0;32mpandas/_libs/parsers.pyx\u001b[0m in \u001b[0;36mpandas._libs.parsers.TextReader._tokenize_rows\u001b[0;34m()\u001b[0m\n",
            "\u001b[0;32mpandas/_libs/parsers.pyx\u001b[0m in \u001b[0;36mpandas._libs.parsers.raise_parser_error\u001b[0;34m()\u001b[0m\n",
            "\u001b[0;31mParserError\u001b[0m: Error tokenizing data. C error: Expected 294 fields in line 127, saw 440\n"
          ]
        }
      ]
    },
    {
      "cell_type": "code",
      "metadata": {
        "id": "vOZuoHjr4r5B"
      },
      "source": [
        "# Mostra os 5 primeiros dados\n",
        "df.head()"
      ],
      "execution_count": null,
      "outputs": []
    },
    {
      "cell_type": "markdown",
      "metadata": {
        "id": "-jQOEr9hFQn6"
      },
      "source": [
        "### Normalizando os dados"
      ]
    },
    {
      "cell_type": "code",
      "metadata": {
        "id": "cqMp6wv14v_p"
      },
      "source": [
        "# Renomeia as colunas\n",
        "df.columns = ['data_hora', 'nome', 'idade', 'genero', 'produtos', 'renda']\n",
        "\n",
        "# Descarta as colunas 'data_hora' e 'nome'\n",
        "df = df.drop(columns=['data_hora', 'nome'])\n",
        "\n",
        "# Converte os valores da coluna produtos para uma lista de produtos\n",
        "df['produtos'] = pd.Series(df['produtos'].str.split(', '))\n",
        "\n",
        "# Ajustando Dummies do DataFrame e formatando o nome das colunas\n",
        "df = pd.get_dummies(df, columns=['genero', 'renda'])\n",
        "df.columns = ['idade', 'produtos', 'genero_Homem', 'genero_Mulher',\n",
        "       'genero_Não-Binarie', 'renda_1a3',\n",
        "       'renda_3a5', 'renda_5']"
      ],
      "execution_count": null,
      "outputs": []
    },
    {
      "cell_type": "code",
      "metadata": {
        "id": "VwuswauNENfU"
      },
      "source": [
        "df.head()"
      ],
      "execution_count": null,
      "outputs": []
    },
    {
      "cell_type": "markdown",
      "metadata": {
        "id": "ocU4D2FnGb6J"
      },
      "source": [
        "### Definindo amostras\n",
        "\n",
        "Estratifica as amostras entre homens, mulheres e suas estratificações de renda"
      ]
    },
    {
      "cell_type": "code",
      "metadata": {
        "id": "X7CluPz-FmB9"
      },
      "source": [
        "df_homens = df.loc[df['genero_Homem'] == 1]\n",
        "df_mulheres = df.loc[df['genero_Mulher'] == 1]\n",
        "df_outros = df.loc[(df['genero_Mulher'] != 1) & (df['genero_Homem'] != 1)]\n",
        "\n",
        "df_mulheres_renda_1a3 = df_mulheres.loc[df['renda_1a3'] == 1]\n",
        "df_mulheres_renda_3a5 = df_mulheres.loc[df['renda_3a5'] == 1]\n",
        "df_mulheres_renda_5   = df_mulheres.loc[df['renda_5'] == 1]\n",
        "\n",
        "df_homens_renda_1a3 = df_homens.loc[df['renda_1a3'] == 1]\n",
        "df_homens_renda_3a5 = df_homens.loc[df['renda_3a5'] == 1]\n",
        "df_homens_renda_5   = df_homens.loc[df['renda_5'] == 1]"
      ],
      "execution_count": null,
      "outputs": []
    },
    {
      "cell_type": "markdown",
      "metadata": {
        "id": "mUuEvUViODOv"
      },
      "source": [
        "## Analisando os dados"
      ]
    },
    {
      "cell_type": "markdown",
      "metadata": {
        "id": "64xW1nqcgE_Z"
      },
      "source": [
        "### Média de idade dos participantes"
      ]
    },
    {
      "cell_type": "code",
      "metadata": {
        "id": "OYWY2nljgKXc"
      },
      "source": [
        "idade = df['idade'].values\n",
        "idade_homens = df_homens['idade'].values\n",
        "idade_mulheres = df_mulheres['idade'].values\n",
        "\n",
        "def media_idade_e_variacao(amostra, idade):\n",
        "  media = idade.mean()\n",
        "  print(f'A média de idade entre {amostra.upper()} é de: {round(media)} anos. Variando de {round(min(idade))} a {round(max(idade))} anos')\n"
      ],
      "execution_count": null,
      "outputs": []
    },
    {
      "cell_type": "markdown",
      "metadata": {
        "id": "QH89-djJOH_T"
      },
      "source": [
        "### Ocorrência de produtos"
      ]
    },
    {
      "cell_type": "code",
      "metadata": {
        "id": "__XjPkIxK0u5"
      },
      "source": [
        "# Define espaço amostral das ocorrências de cada produto\n",
        "\n",
        "ocorrencia_produtos_total = []\n",
        "ocorrencia_produtos_homens = []\n",
        "ocorrencia_produtos_mulheres = []\n",
        "\n",
        "for lista_produtos in df['produtos']:\n",
        "  for p in lista_produtos:\n",
        "    ocorrencia_produtos_total.append(p)\n",
        "\n",
        "for lista_produtos in df_homens['produtos']:\n",
        "  for p in lista_produtos:\n",
        "    ocorrencia_produtos_homens.append(p)\n",
        "\n",
        "for lista_produtos in df_mulheres['produtos']:\n",
        "  for p in lista_produtos:\n",
        "    ocorrencia_produtos_mulheres.append(p)\n",
        "\n",
        "# Define uma funcção que recebe o nome da amostra, todos os selecionados da amostra e o dataframe da amostra e Retorna o Rankeamento entre os produtos.\n",
        "def rankear_produtos(amostra, ocorrencia, df):\n",
        "  print('')\n",
        "  print('')\n",
        "  counter = Counter(ocorrencia)\n",
        "\n",
        "  msg = f'{\"=\" * 40} {amostra.upper()} {\"=\" * 40}'\n",
        "  print('=' * len(msg))\n",
        "  print(msg)\n",
        "  print('')\n",
        "\n",
        "  # Imprime na tela o RANKING de produtos entre TODOS\n",
        "  counter = OrderedDict(sorted(counter.items(), key=lambda kv: kv[1], reverse=True))\n",
        "  for i in range(len(counter)):\n",
        "    print(f'{i + 1}. {list(counter.keys())[i]}: {list(counter.values())[i]}')\n",
        "\n",
        "  mais_comum = (list(counter.keys())[0],list(counter.values())[0])\n",
        "  menos_comum = (list(counter.keys())[-1],list(counter.values())[-1])\n",
        "  total = len(df)\n",
        "\n",
        "  print('')\n",
        "  print(f'Total de {amostra.upper()}: {total}')\n",
        "  print(f'O produto MAIS comum entre {amostra.upper()} foi \"{mais_comum[0]}\" com {mais_comum[1]} ocorrências, equivalente a {round(100.0 * (mais_comum[1] / total), 2)}%.')\n",
        "  print(f'O produto MENOS comum entre {amostra.upper()} foi \"{menos_comum[0]}\" com {menos_comum[1]} ocorrências, equivalente a {round(100.0 * (menos_comum[1] / total), 2)}%.')"
      ],
      "execution_count": null,
      "outputs": []
    },
    {
      "cell_type": "markdown",
      "metadata": {
        "id": "elsTdsBqp04A"
      },
      "source": [
        "### Ocorrência de produtos por faixa de renda"
      ]
    },
    {
      "cell_type": "code",
      "metadata": {
        "id": "KZLlhKpcp04D"
      },
      "source": [
        "# Define uma funcção que recebe o nome da amostra, todos os selecionados da amostra e o dataframe da amostra e Retorna o Rankeamento entre os produtos.\n",
        "def rankear_produtos_por_renda(amostra, ocorrencia, df):\n",
        "  print('')\n",
        "  print('')\n",
        "  counter = Counter(ocorrencia)\n",
        "\n",
        "  msg = f'{\"=\" * 40} {amostra.upper()} {\"=\" * 40}'\n",
        "  print('=' * len(msg))\n",
        "  print(msg)\n",
        "  print('')\n",
        "\n",
        "  # Imprime na tela o RANKING de produtos entre TODOS\n",
        "  counter = OrderedDict(sorted(counter.items(), key=lambda kv: kv[1], reverse=True))\n",
        "  for i in range(len(counter)):\n",
        "    print(f'{i + 1}. {list(counter.keys())[i]}: {list(counter.values())[i]}')\n",
        "\n",
        "  mais_comum = (list(counter.keys())[0],list(counter.values())[0])\n",
        "  menos_comum = (list(counter.keys())[-1],list(counter.values())[-1])\n",
        "  total = len(df)\n",
        "\n",
        "  print('')\n",
        "  print(f'Total de {amostra.upper()}: {total}')\n",
        "  print(f'O produto MAIS comum entre {amostra.upper()} foi \"{mais_comum[0]}\" com {mais_comum[1]} ocorrências, equivalente a {round(100.0 * (mais_comum[1] / total), 2)}%.')\n",
        "  print(f'O produto MENOS comum entre {amostra.upper()} foi \"{menos_comum[0]}\" com {menos_comum[1]} ocorrências, equivalente a {round(100.0 * (menos_comum[1] / total), 2)}%.')\n",
        "\n",
        "\n",
        "\n",
        "# Define espaço amostral das MULHERES por renda\n",
        "ocorrencia_produtos_mulheres_renda_1a3 = []\n",
        "ocorrencia_produtos_mulheres_renda_3a5 = []\n",
        "ocorrencia_produtos_mulheres_renda_5 = []\n",
        "\n",
        "for lista_produtos in df_mulheres_renda_1a3['produtos']:\n",
        "  for p in lista_produtos:\n",
        "    ocorrencia_produtos_mulheres_renda_1a3.append(p)\n",
        "\n",
        "for lista_produtos in df_mulheres_renda_3a5['produtos']:\n",
        "  for p in lista_produtos:\n",
        "    ocorrencia_produtos_mulheres_renda_3a5.append(p)\n",
        "\n",
        "for lista_produtos in df_mulheres_renda_5['produtos']:\n",
        "  for p in lista_produtos:\n",
        "    ocorrencia_produtos_mulheres_renda_5.append(p)\n",
        "\n",
        "\n",
        "# Define espaço amostral dos HOMENS por renda\n",
        "ocorrencia_produtos_homens_renda_1a3 = []\n",
        "ocorrencia_produtos_homens_renda_3a5 = []\n",
        "ocorrencia_produtos_homens_renda_5 = []\n",
        "\n",
        "for lista_produtos in df_homens_renda_1a3['produtos']:\n",
        "  for p in lista_produtos:\n",
        "    ocorrencia_produtos_homens_renda_1a3.append(p)\n",
        "\n",
        "for lista_produtos in df_homens_renda_3a5['produtos']:\n",
        "  for p in lista_produtos:\n",
        "    ocorrencia_produtos_homens_renda_3a5.append(p)\n",
        "\n",
        "for lista_produtos in df_homens_renda_5['produtos']:\n",
        "  for p in lista_produtos:\n",
        "    ocorrencia_produtos_homens_renda_5.append(p)\n"
      ],
      "execution_count": null,
      "outputs": []
    },
    {
      "cell_type": "markdown",
      "metadata": {
        "id": "VDhxChNclMD5"
      },
      "source": [
        "## Mostrando os dados"
      ]
    },
    {
      "cell_type": "markdown",
      "metadata": {
        "id": "3C11KyDElXD6"
      },
      "source": [
        "### Panorama"
      ]
    },
    {
      "cell_type": "code",
      "metadata": {
        "id": "_opeS48blQYy"
      },
      "source": [
        "labels = X\n",
        "men_means = Y_homens\n",
        "women_means = Y_mulheres\n",
        "\n",
        "x = np.arange(len(labels))  # the label locations\n",
        "width = 0.35  # the width of the bars\n",
        "\n",
        "fig, ax = plt.subplots(figsize=(30, 10))\n",
        "rects1 = ax.bar(x - width/2, men_means, width, label='Homens')\n",
        "rects2 = ax.bar(x + width/2, women_means, width, label='Mulheres')\n",
        "\n",
        "# Add some text for labels, title and custom x-axis tick labels, etc.\n",
        "ax.set_ylabel('Ocorrência')\n",
        "ax.set_xlabel('Produtos')\n",
        "ax.set_title('Ocorrência de produtos por gênero')\n",
        "ax.set_xticks(x)\n",
        "ax.set_xticklabels(labels)\n",
        "ax.legend()\n",
        "\n",
        "plt.xticks(rotation=60)\n",
        "plt.margins(0.05)\n",
        "plt.subplots_adjust(bottom=0.15)\n",
        "\n",
        "def autolabel(rects):\n",
        "    \"\"\"Attach a text label above each bar in *rects*, displaying its height.\"\"\"\n",
        "    for rect in rects:\n",
        "        height = rect.get_height()\n",
        "        ax.annotate('{}'.format(height),\n",
        "                    xy=(rect.get_x() + rect.get_width() / 2, height),\n",
        "                    xytext=(0, 3),  # 3 points vertical offset\n",
        "                    textcoords=\"offset points\",\n",
        "                    ha='center', va='bottom')\n",
        "\n",
        "\n",
        "autolabel(rects1)\n",
        "autolabel(rects2)\n",
        "\n",
        "fig.tight_layout()\n",
        "\n",
        "plt.show()\n",
        "\n",
        "rankear_produtos('total', ocorrencia_produtos_total, df)\n",
        "media_idade_e_variacao('todos', idade)\n",
        "\n",
        "rankear_produtos('homens', ocorrencia_produtos_homens, df_homens)\n",
        "media_idade_e_variacao('homens', idade_homens)\n",
        "\n",
        "rankear_produtos('mulheres', ocorrencia_produtos_mulheres, df_mulheres)\n",
        "media_idade_e_variacao('mulheres', idade_mulheres)\n",
        "\n",
        "\n"
      ],
      "execution_count": null,
      "outputs": []
    },
    {
      "cell_type": "markdown",
      "metadata": {
        "id": "uVTG6k46qkkZ"
      },
      "source": [
        "### Por renda"
      ]
    },
    {
      "cell_type": "code",
      "metadata": {
        "id": "k0fwssUi8W5y"
      },
      "source": [
        "produtos = []\n",
        "for p_list in df['produtos']:\n",
        "  for p in p_list:\n",
        "    produtos.append(p)\n",
        "counter = Counter(produtos)\n",
        "\n",
        "X = list(counter.keys())\n",
        "Y = list(counter.values())\n",
        "\n",
        "\n",
        "produtos_homens = []\n",
        "for p_list in df_homens['produtos']:\n",
        "  for p in p_list:\n",
        "    produtos_homens.append(p)\n",
        "counter_homens = Counter(produtos_homens)\n",
        "\n",
        "X_homens = list(counter_homens.keys())\n",
        "Y_homens = list(counter_homens.values())\n",
        "\n",
        "produtos_homens_1a3 = []\n",
        "for p_list in df_homens_renda_1a3['produtos']:\n",
        "  for p in p_list:\n",
        "    produtos_homens_1a3.append(p)\n",
        "counter_homens_1a3 = Counter(produtos_homens_1a3)\n",
        "\n",
        "X_homens_1a3 = list(counter_homens_1a3.keys())\n",
        "Y_homens_1a3 = list(counter_homens_1a3.values())\n",
        "\n",
        "produtos_homens_3a5 = []\n",
        "for p_list in df_homens_renda_3a5['produtos']:\n",
        "  for p in p_list:\n",
        "    produtos_homens_3a5.append(p)\n",
        "counter_homens_3a5 = Counter(produtos_homens_3a5)\n",
        "\n",
        "X_homens_3a5 = list(counter_homens_3a5.keys())\n",
        "Y_homens_3a5 = list(counter_homens_3a5.values())\n",
        "\n",
        "produtos_homens_5 = []\n",
        "for p_list in df_homens_renda_5['produtos']:\n",
        "  for p in p_list:\n",
        "    produtos_homens_5.append(p)\n",
        "counter_homens_5 = Counter(produtos_homens_5)\n",
        "\n",
        "X_homens_5 = list(counter_homens_5.keys())\n",
        "Y_homens_5 = list(counter_homens_5.values())\n",
        "\n",
        "\n",
        "\n",
        "print(len(produtos_homens_3a5))\n",
        "print(len(X))\n",
        "\n",
        "\n",
        "\n",
        "produtos_mulheres = []\n",
        "for p_list in df_mulheres['produtos']:\n",
        "  for p in p_list:\n",
        "    produtos_mulheres.append(p)\n",
        "counter_mulheres = Counter(produtos_mulheres)\n",
        "\n",
        "X_mulheres = list(counter_mulheres.keys())\n",
        "Y_mulheres = list(counter_mulheres.values())\n",
        "\n",
        "produtos_mulheres_1a3 = []\n",
        "for p_list in df_mulheres_renda_1a3['produtos']:\n",
        "  for p in p_list:\n",
        "    produtos_mulheres_1a3.append(p)\n",
        "counter_mulheres_1a3 = Counter(produtos_mulheres_1a3)\n",
        "\n",
        "X_mulheres_1a3 = list(counter_mulheres_1a3.keys())\n",
        "Y_mulheres_1a3 = list(counter_mulheres_1a3.values())\n",
        "\n",
        "produtos_mulheres_3a5 = []\n",
        "for p_list in df_mulheres_renda_3a5['produtos']:\n",
        "  for p in p_list:\n",
        "    produtos_mulheres_3a5.append(p)\n",
        "counter_mulheres_3a5 = Counter(produtos_mulheres_3a5)\n",
        "\n",
        "X_mulheres_3a5 = list(counter_mulheres_3a5.keys())\n",
        "Y_mulheres_3a5 = list(counter_mulheres_3a5.values())\n",
        "\n",
        "produtos_mulheres_5 = []\n",
        "for p_list in df_mulheres_renda_5['produtos']:\n",
        "  for p in p_list:\n",
        "    produtos_mulheres_5.append(p)\n",
        "counter_mulheres_5 = Counter(produtos_mulheres_5)\n",
        "\n",
        "X_mulheres_5 = list(counter_mulheres_5.keys())\n",
        "Y_mulheres_5 = list(counter_mulheres_5.values())"
      ],
      "execution_count": null,
      "outputs": []
    },
    {
      "cell_type": "markdown",
      "metadata": {
        "id": "1nQ1PRlysB4f"
      },
      "source": [
        "#### Mulheres\n"
      ]
    },
    {
      "cell_type": "code",
      "metadata": {
        "id": "BlDProIWqvRH"
      },
      "source": [
        "labels = X_mulheres\n",
        "um_a_tres = Y_mulheres_1a3\n",
        "tres_a_cinco = Y_mulheres_3a5\n",
        "cinco = Y_mulheres_5\n",
        "\n",
        "for i in range(len(X)):\n",
        "  if len(um_a_tres) <= i:\n",
        "    um_a_tres.append(0)\n",
        "  if len(tres_a_cinco) <= i:\n",
        "    tres_a_cinco.append(0)\n",
        "  if len(cinco) <= i:\n",
        "    cinco.append(0)\n",
        "\n",
        "x = np.arange(len(labels))  # the label locations\n",
        "width = 0.25  # the width of the bars\n",
        "\n",
        "fig, ax = plt.subplots(figsize=(30, 10))\n",
        "rects1 = ax.bar(x - width, um_a_tres, width, label='1 a 3 salários')\n",
        "rects2 = ax.bar(x, tres_a_cinco, width, label='3 a 5 salários')\n",
        "rects3 = ax.bar(x + width, cinco, width, label='mais de 5 salários')\n",
        "\n",
        "# Add some text for labels, title and custom x-axis tick labels, etc.\n",
        "ax.set_ylabel('Ocorrência')\n",
        "ax.set_xlabel('Produtos')\n",
        "ax.set_title('Ocorrência de produtos para MULHERES por renda')\n",
        "ax.set_xticks(x)\n",
        "ax.set_xticklabels(labels)\n",
        "ax.legend()\n",
        "\n",
        "plt.xticks(rotation=60)\n",
        "plt.margins(0.05)\n",
        "plt.subplots_adjust(bottom=0.15)\n",
        "\n",
        "def autolabel(rects):\n",
        "    \"\"\"Attach a text label above each bar in *rects*, displaying its height.\"\"\"\n",
        "    for rect in rects:\n",
        "        height = rect.get_height()\n",
        "        ax.annotate('{}'.format(height),\n",
        "                    xy=(rect.get_x() + rect.get_width() / 2, height),\n",
        "                    xytext=(0, 3),  # 3 points vertical offset\n",
        "                    textcoords=\"offset points\",\n",
        "                    ha='center', va='bottom')\n",
        "\n",
        "\n",
        "autolabel(rects1)\n",
        "autolabel(rects2)\n",
        "autolabel(rects3)\n",
        "\n",
        "fig.tight_layout()\n",
        "\n",
        "plt.show()\n",
        "\n",
        "\n",
        "rankear_produtos_por_renda('mulheres 1a3', ocorrencia_produtos_mulheres_renda_1a3, df_mulheres_renda_1a3)\n",
        "rankear_produtos_por_renda('mulheres 3a5', ocorrencia_produtos_mulheres_renda_3a5, df_mulheres_renda_3a5)\n",
        "rankear_produtos_por_renda('mulheres 5', ocorrencia_produtos_mulheres_renda_5, df_mulheres_renda_5)\n",
        "\n",
        "\n"
      ],
      "execution_count": null,
      "outputs": []
    },
    {
      "cell_type": "markdown",
      "metadata": {
        "id": "ufFn9sN6sEq4"
      },
      "source": [
        "#### Homens"
      ]
    },
    {
      "cell_type": "code",
      "metadata": {
        "id": "sQmb0tYztbi3"
      },
      "source": [
        "labels = X\n",
        "um_a_tres = Y_homens_1a3\n",
        "tres_a_cinco = Y_homens_3a5\n",
        "cinco = Y_homens_5\n",
        "\n",
        "for i in range(len(X)):\n",
        "  if len(um_a_tres) <= i:\n",
        "    um_a_tres.append(0)\n",
        "  if len(tres_a_cinco) <= i:\n",
        "    tres_a_cinco.append(0)\n",
        "  if len(cinco) <= i:\n",
        "    cinco.append(0)\n",
        "\n",
        "\n",
        "x = np.arange(len(labels))  # the label locations\n",
        "width = 0.25  # the width of the bars\n",
        "\n",
        "fig, ax = plt.subplots(figsize=(30, 10))\n",
        "rects1 = ax.bar(x - width, um_a_tres, width, label='1 a 3 salários')\n",
        "rects2 = ax.bar(x, tres_a_cinco, width, label='3 a 5 salários')\n",
        "rects3 = ax.bar(x + width, cinco, width, label='mais de 5 salários')\n",
        "\n",
        "# Add some text for labels, title and custom x-axis tick labels, etc.\n",
        "ax.set_ylabel('Ocorrência')\n",
        "ax.set_xlabel('Produtos')\n",
        "ax.set_title('Ocorrência de produtos para MULHERES por renda')\n",
        "ax.set_xticks(x)\n",
        "ax.set_xticklabels(labels)\n",
        "ax.legend()\n",
        "\n",
        "plt.xticks(rotation=60)\n",
        "plt.margins(0.05)\n",
        "plt.subplots_adjust(bottom=0.15)\n",
        "\n",
        "def autolabel(rects):\n",
        "    \"\"\"Attach a text label above each bar in *rects*, displaying its height.\"\"\"\n",
        "    for rect in rects:\n",
        "        height = rect.get_height()\n",
        "        ax.annotate('{}'.format(height),\n",
        "                    xy=(rect.get_x() + rect.get_width() / 2, height),\n",
        "                    xytext=(0, 3),  # 3 points vertical offset\n",
        "                    textcoords=\"offset points\",\n",
        "                    ha='center', va='bottom')\n",
        "\n",
        "\n",
        "autolabel(rects1)\n",
        "autolabel(rects2)\n",
        "autolabel(rects3)\n",
        "\n",
        "fig.tight_layout()\n",
        "\n",
        "plt.show()\n",
        "\n",
        "rankear_produtos_por_renda('homens 1a3', ocorrencia_produtos_homens_renda_1a3, df_homens_renda_1a3)\n",
        "rankear_produtos_por_renda('homens 3a5', ocorrencia_produtos_homens_renda_3a5, df_homens_renda_3a5)\n",
        "rankear_produtos_por_renda('homens 5', ocorrencia_produtos_homens_renda_5, df_homens_renda_5)"
      ],
      "execution_count": null,
      "outputs": []
    },
    {
      "cell_type": "code",
      "metadata": {
        "id": "uaA_JHibu0XH"
      },
      "source": [
        "\n"
      ],
      "execution_count": null,
      "outputs": []
    },
    {
      "cell_type": "code",
      "metadata": {
        "id": "fWOBL3w7yuN5"
      },
      "source": [
        ""
      ],
      "execution_count": null,
      "outputs": []
    },
    {
      "cell_type": "code",
      "metadata": {
        "id": "SkYq2gZg47_0"
      },
      "source": [
        "labels = X\n",
        "men_means = Y_homens\n",
        "women_means = Y_mulheres\n",
        "\n",
        "x = np.arange(len(labels))  # the label locations\n",
        "width = 0.35  # the width of the bars\n",
        "\n",
        "fig, ax = plt.subplots(figsize=(30, 10))\n",
        "rects1 = ax.bar(x - width/2, men_means, width, label='Homens')\n",
        "rects2 = ax.bar(x + width/2, women_means, width, label='Mulheres')\n",
        "\n",
        "# Add some text for labels, title and custom x-axis tick labels, etc.\n",
        "ax.set_ylabel('Ocorrência')\n",
        "ax.set_xlabel('Produtos')\n",
        "ax.set_title('Ocorrência de produtos por gênero')\n",
        "ax.set_xticks(x)\n",
        "ax.set_xticklabels(labels)\n",
        "ax.legend()\n",
        "\n",
        "plt.xticks(rotation=60)\n",
        "plt.margins(0.05)\n",
        "plt.subplots_adjust(bottom=0.15)\n",
        "\n",
        "def autolabel(rects):\n",
        "    \"\"\"Attach a text label above each bar in *rects*, displaying its height.\"\"\"\n",
        "    for rect in rects:\n",
        "        height = rect.get_height()\n",
        "        ax.annotate('{}'.format(height),\n",
        "                    xy=(rect.get_x() + rect.get_width() / 2, height),\n",
        "                    xytext=(0, 3),  # 3 points vertical offset\n",
        "                    textcoords=\"offset points\",\n",
        "                    ha='center', va='bottom')\n",
        "\n",
        "\n",
        "autolabel(rects1)\n",
        "autolabel(rects2)\n",
        "\n",
        "fig.tight_layout()\n",
        "\n",
        "plt.show()"
      ],
      "execution_count": null,
      "outputs": []
    },
    {
      "cell_type": "markdown",
      "metadata": {
        "id": "nFqz8G8T8Kra"
      },
      "source": [
        ""
      ]
    },
    {
      "cell_type": "code",
      "metadata": {
        "id": "Jc4SAWHe48V7"
      },
      "source": [
        "labels = X\n",
        "um_a_tres = Y_mulheres_1a3\n",
        "tres_a_cinco = Y_mulheres_3a5\n",
        "cinco = Y_mulheres_5\n",
        "\n",
        "\n",
        "x = np.arange(len(labels))  # the label locations\n",
        "width = 0.25  # the width of the bars\n",
        "\n",
        "print(x)\n",
        "\n",
        "fig, ax = plt.subplots(figsize=(30, 10))\n",
        "rects1 = ax.bar(x - width, um_a_tres, width, label='1 a 3 salários')\n",
        "rects2 = ax.bar(x, tres_a_cinco, width, label='3 a 5 salários')\n",
        "rects3 = ax.bar(x + width, cinco, width, label='mais de 5 salários')\n",
        "\n",
        "# Add some text for labels, title and custom x-axis tick labels, etc.\n",
        "ax.set_ylabel('Ocorrência')\n",
        "ax.set_xlabel('Produtos')\n",
        "ax.set_title('Ocorrência de produtos para MULHERES por renda')\n",
        "ax.set_xticks(x)\n",
        "ax.set_xticklabels(labels)\n",
        "ax.legend()\n",
        "\n",
        "plt.xticks(rotation=60)\n",
        "plt.margins(0.05)\n",
        "plt.subplots_adjust(bottom=0.15)\n",
        "\n",
        "def autolabel(rects):\n",
        "    \"\"\"Attach a text label above each bar in *rects*, displaying its height.\"\"\"\n",
        "    for rect in rects:\n",
        "        height = rect.get_height()\n",
        "        ax.annotate('{}'.format(height),\n",
        "                    xy=(rect.get_x() + rect.get_width() / 2, height),\n",
        "                    xytext=(0, 3),  # 3 points vertical offset\n",
        "                    textcoords=\"offset points\",\n",
        "                    ha='center', va='bottom')\n",
        "\n",
        "\n",
        "autolabel(rects1)\n",
        "autolabel(rects2)\n",
        "autolabel(rects3)\n",
        "\n",
        "fig.tight_layout()\n",
        "\n",
        "plt.show()"
      ],
      "execution_count": null,
      "outputs": []
    }
  ]
}